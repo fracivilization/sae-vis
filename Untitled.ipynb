{
 "cells": [
  {
   "cell_type": "code",
   "execution_count": 1,
   "id": "c15c3374-617b-4ab2-bf40-996606cb9449",
   "metadata": {},
   "outputs": [],
   "source": [
    "try:\n",
    "    import google.colab # type: ignore\n",
    "    from google.colab import output\n",
    "    COLAB = True\n",
    "    %pip install sae-vis==0.2.14\n",
    "except:\n",
    "    COLAB = False\n",
    "    from IPython import get_ipython # type: ignore\n",
    "    ipython = get_ipython(); assert ipython is not None\n",
    "    ipython.run_line_magic(\"load_ext\", \"autoreload\")\n",
    "    ipython.run_line_magic(\"autoreload\", \"2\")\n",
    "\n",
    "# Standard imports\n",
    "import torch\n",
    "from datasets import load_dataset\n",
    "import webbrowser\n",
    "import os\n",
    "from transformer_lens import utils, HookedTransformer\n",
    "from datasets.arrow_dataset import Dataset\n",
    "from huggingface_hub import hf_hub_download\n",
    "import time\n",
    "\n",
    "# Library imports\n",
    "from sae_vis.utils_fns import get_device\n",
    "from sae_vis.model_fns import AutoEncoder\n",
    "from sae_vis.data_storing_fns import SaeVisData\n",
    "from sae_vis.data_config_classes import SaeVisConfig\n",
    "# from sae_lens.training.sparse_autoencoder import SparseAutoencoder\n",
    "\n",
    "# Imports for displaying vis in Colab / notebook\n",
    "import webbrowser\n",
    "import http.server\n",
    "import socketserver\n",
    "import threading\n",
    "PORT = 8000\n",
    "\n",
    "device = get_device()\n",
    "torch.set_grad_enabled(False);"
   ]
  },
  {
   "cell_type": "code",
   "execution_count": 2,
   "id": "01c9cac2-8da8-4007-b358-686df3e01023",
   "metadata": {},
   "outputs": [],
   "source": [
    "def display_vis_inline(filename: str, height: int = 850):\n",
    "    '''\n",
    "    Displays the HTML files in Colab. Uses global `PORT` variable defined in prev cell, so that each\n",
    "    vis has a unique port without having to define a port within the function.\n",
    "    '''\n",
    "    if not(COLAB):\n",
    "        webbrowser.open(filename);\n",
    "\n",
    "    else:\n",
    "        global PORT\n",
    "\n",
    "        def serve(directory):\n",
    "            os.chdir(directory)\n",
    "\n",
    "            # Create a handler for serving files\n",
    "            handler = http.server.SimpleHTTPRequestHandler\n",
    "\n",
    "            # Create a socket server with the handler\n",
    "            with socketserver.TCPServer((\"\", PORT), handler) as httpd:\n",
    "                print(f\"Serving files from {directory} on port {PORT}\")\n",
    "                httpd.serve_forever()\n",
    "\n",
    "        thread = threading.Thread(target=serve, args=(\"/content\",))\n",
    "        thread.start()\n",
    "\n",
    "        output.serve_kernel_port_as_iframe(PORT, path=f\"/{filename}\", height=height, cache_in_notebook=True)\n",
    "\n",
    "        PORT += 1"
   ]
  },
  {
   "cell_type": "code",
   "execution_count": 3,
   "id": "a30c875d-a9bc-446f-8e48-608a5f4118fd",
   "metadata": {},
   "outputs": [],
   "source": [
    "encoder = AutoEncoder.load_from_hf(version=\"run1\").to(device)\n",
    "encoder_B = AutoEncoder.load_from_hf(version=\"run2\").to(device)"
   ]
  },
  {
   "cell_type": "code",
   "execution_count": 4,
   "id": "5a8c6023-0971-4f89-a8ff-79bc97173805",
   "metadata": {
    "scrolled": true
   },
   "outputs": [
    {
     "name": "stdout",
     "output_type": "stream",
     "text": [
      "Loaded pretrained model gelu-1l into HookedTransformer\n",
      "Moving model to device:  cpu\n"
     ]
    },
    {
     "data": {
      "text/plain": [
       "HookedTransformer(\n",
       "  (embed): Embed()\n",
       "  (hook_embed): HookPoint()\n",
       "  (pos_embed): PosEmbed()\n",
       "  (hook_pos_embed): HookPoint()\n",
       "  (blocks): ModuleList(\n",
       "    (0): TransformerBlock(\n",
       "      (ln1): LayerNormPre(\n",
       "        (hook_scale): HookPoint()\n",
       "        (hook_normalized): HookPoint()\n",
       "      )\n",
       "      (ln2): LayerNormPre(\n",
       "        (hook_scale): HookPoint()\n",
       "        (hook_normalized): HookPoint()\n",
       "      )\n",
       "      (attn): Attention(\n",
       "        (hook_k): HookPoint()\n",
       "        (hook_q): HookPoint()\n",
       "        (hook_v): HookPoint()\n",
       "        (hook_z): HookPoint()\n",
       "        (hook_attn_scores): HookPoint()\n",
       "        (hook_pattern): HookPoint()\n",
       "        (hook_result): HookPoint()\n",
       "      )\n",
       "      (mlp): MLP(\n",
       "        (hook_pre): HookPoint()\n",
       "        (hook_post): HookPoint()\n",
       "      )\n",
       "      (hook_attn_in): HookPoint()\n",
       "      (hook_q_input): HookPoint()\n",
       "      (hook_k_input): HookPoint()\n",
       "      (hook_v_input): HookPoint()\n",
       "      (hook_mlp_in): HookPoint()\n",
       "      (hook_attn_out): HookPoint()\n",
       "      (hook_mlp_out): HookPoint()\n",
       "      (hook_resid_pre): HookPoint()\n",
       "      (hook_resid_mid): HookPoint()\n",
       "      (hook_resid_post): HookPoint()\n",
       "    )\n",
       "  )\n",
       "  (ln_final): LayerNormPre(\n",
       "    (hook_scale): HookPoint()\n",
       "    (hook_normalized): HookPoint()\n",
       "  )\n",
       "  (unembed): Unembed()\n",
       ")"
      ]
     },
     "execution_count": 4,
     "metadata": {},
     "output_type": "execute_result"
    }
   ],
   "source": [
    "model = HookedTransformer.from_pretrained(\"gelu-1l\")\n",
    "model.to(device)"
   ]
  },
  {
   "cell_type": "code",
   "execution_count": 5,
   "id": "c0d49e5a-38b6-483c-8540-d1ea43c0504e",
   "metadata": {},
   "outputs": [
    {
     "name": "stdout",
     "output_type": "stream",
     "text": [
      "torch.Size([215402, 128])\n"
     ]
    }
   ],
   "source": [
    "SEQ_LEN = 128\n",
    "\n",
    "# Load in the data (it's a Dataset object)\n",
    "data = load_dataset(\"NeelNanda/c4-code-20k\", split=\"train\")\n",
    "assert isinstance(data, Dataset)\n",
    "\n",
    "# Tokenize the data (using a utils function) and shuffle it\n",
    "tokenized_data = utils.tokenize_and_concatenate(data, model.tokenizer, max_length=SEQ_LEN) # type: ignore\n",
    "tokenized_data = tokenized_data.shuffle(42)\n",
    "\n",
    "# Get the tokens as a tensor\n",
    "all_tokens = tokenized_data[\"tokens\"]\n",
    "assert isinstance(all_tokens, torch.Tensor)\n",
    "\n",
    "print(all_tokens.shape)"
   ]
  },
  {
   "cell_type": "code",
   "execution_count": 14,
   "id": "a697a5db-1330-46b6-ba58-049d025c5d75",
   "metadata": {},
   "outputs": [
    {
     "data": {
      "text/plain": [
       "torch.Size([2049, 128])"
      ]
     },
     "execution_count": 14,
     "metadata": {},
     "output_type": "execute_result"
    }
   ],
   "source": [
    "all_tokens[:2049].shape"
   ]
  },
  {
   "cell_type": "code",
   "execution_count": 30,
   "id": "7841e130-df19-46f4-89c7-97bcbb61964c",
   "metadata": {},
   "outputs": [
    {
     "data": {
      "text/plain": [
       "SaeVisLayoutConfig(columns={0: <sae_vis.data_config_classes.Column object at 0x7ca617dfbf10>, 1: <sae_vis.data_config_classes.Column object at 0x7ca60e1df350>, 2: <sae_vis.data_config_classes.Column object at 0x7ca60e1df810>}, height=750, seq_cfg=SequencesConfig(buffer=(5, 5), compute_buffer=True, n_quantiles=10, top_acts_group_size=20, quantile_group_size=5, top_logits_hoverdata=5, stack_mode='stack-none', hover_below=True), act_hist_cfg=ActsHistogramConfig(n_bins=50), logits_hist_cfg=LogitsHistogramConfig(n_bins=50), logits_table_cfg=LogitsTableConfig(n_rows=10), feature_tables_cfg=FeatureTablesConfig(n_rows=3, neuron_alignment_table=True, correlated_neurons_table=True, correlated_features_table=True, correlated_b_features_table=False), prompt_cfg=None)"
      ]
     },
     "execution_count": 30,
     "metadata": {},
     "output_type": "execute_result"
    }
   ],
   "source": [
    "feature_centric_layout"
   ]
  },
  {
   "cell_type": "code",
   "execution_count": 7,
   "id": "528ef2a4-151c-4e9c-bf49-083ab53fbbb1",
   "metadata": {},
   "outputs": [],
   "source": [
    "from sae_vis.data_config_classes import SaeVisLayoutConfig, SequencesConfig\n",
    "feature_centric_layout = SaeVisLayoutConfig.default_feature_centric_layout()\n",
    "feature_centric_layout.seq_cfg = SequencesConfig(buffer=None)"
   ]
  },
  {
   "cell_type": "code",
   "execution_count": 8,
   "id": "a2bc78cc-1c79-46f9-983c-2c8ea9a19aa1",
   "metadata": {
    "scrolled": true
   },
   "outputs": [
    {
     "data": {
      "application/vnd.jupyter.widget-view+json": {
       "model_id": "a6d70f0e07c44fabaac4580cfce0325d",
       "version_major": 2,
       "version_minor": 0
      },
      "text/plain": [
       "Forward passes to cache data for vis:   0%|          | 0/32 [00:00<?, ?it/s]"
      ]
     },
     "metadata": {},
     "output_type": "display_data"
    },
    {
     "data": {
      "application/vnd.jupyter.widget-view+json": {
       "model_id": "197a7b751f604974a11e3e67390b4bb6",
       "version_major": 2,
       "version_minor": 0
      },
      "text/plain": [
       "Extracting vis data from cached data:   0%|          | 0/64 [00:00<?, ?it/s]"
      ]
     },
     "metadata": {},
     "output_type": "display_data"
    },
    {
     "data": {
      "text/html": [
       "<pre style=\"white-space:pre;overflow-x:auto;line-height:normal;font-family:Menlo,'DejaVu Sans Mono',consolas,'Courier New',monospace\">┏━━━━━━━━━━━━━━━━━━━━━━━━━━━━━━━━━━━━━━━━━━━━━━━━┳━━━━━━━━━┳━━━━━━━┓\n",
       "┃<span style=\"font-weight: bold\"> Task                                           </span>┃<span style=\"font-weight: bold\"> Time    </span>┃<span style=\"font-weight: bold\"> Pct % </span>┃\n",
       "┡━━━━━━━━━━━━━━━━━━━━━━━━━━━━━━━━━━━━━━━━━━━━━━━━╇━━━━━━━━━╇━━━━━━━┩\n",
       "│ (1) Initialization                             │ 0.01s   │ 0.0%  │\n",
       "│ (2) Forward passes to gather model activations │ 65.54s  │ 17.6% │\n",
       "│ (3) Computing feature acts from model acts     │ 71.11s  │ 19.0% │\n",
       "│ (4) Getting data for tables                    │ 0.01s   │ 0.0%  │\n",
       "│ (5) Getting data for histograms                │ 0.12s   │ 0.0%  │\n",
       "│ (6) Getting data for sequences                 │ 234.75s │ 62.9% │\n",
       "│ (7) Getting data for quantiles                 │ 1.86s   │ 0.5%  │\n",
       "└────────────────────────────────────────────────┴─────────┴───────┘\n",
       "</pre>\n"
      ],
      "text/plain": [
       "┏━━━━━━━━━━━━━━━━━━━━━━━━━━━━━━━━━━━━━━━━━━━━━━━━┳━━━━━━━━━┳━━━━━━━┓\n",
       "┃\u001b[1m \u001b[0m\u001b[1mTask                                          \u001b[0m\u001b[1m \u001b[0m┃\u001b[1m \u001b[0m\u001b[1mTime   \u001b[0m\u001b[1m \u001b[0m┃\u001b[1m \u001b[0m\u001b[1mPct %\u001b[0m\u001b[1m \u001b[0m┃\n",
       "┡━━━━━━━━━━━━━━━━━━━━━━━━━━━━━━━━━━━━━━━━━━━━━━━━╇━━━━━━━━━╇━━━━━━━┩\n",
       "│ (1) Initialization                             │ 0.01s   │ 0.0%  │\n",
       "│ (2) Forward passes to gather model activations │ 65.54s  │ 17.6% │\n",
       "│ (3) Computing feature acts from model acts     │ 71.11s  │ 19.0% │\n",
       "│ (4) Getting data for tables                    │ 0.01s   │ 0.0%  │\n",
       "│ (5) Getting data for histograms                │ 0.12s   │ 0.0%  │\n",
       "│ (6) Getting data for sequences                 │ 234.75s │ 62.9% │\n",
       "│ (7) Getting data for quantiles                 │ 1.86s   │ 0.5%  │\n",
       "└────────────────────────────────────────────────┴─────────┴───────┘\n"
      ]
     },
     "metadata": {},
     "output_type": "display_data"
    },
    {
     "data": {
      "application/vnd.jupyter.widget-view+json": {
       "model_id": "7aeb21f59e014eb0afb010ac6b5f9099",
       "version_major": 2,
       "version_minor": 0
      },
      "text/plain": [
       "Saving feature-centric vis:   0%|          | 0/64 [00:00<?, ?it/s]"
      ]
     },
     "metadata": {},
     "output_type": "display_data"
    }
   ],
   "source": [
    "\n",
    "# Specify the hook point you're using, and the features you're analyzing\n",
    "sae_vis_config = SaeVisConfig(\n",
    "    hook_point = utils.get_act_name(\"post\", 0),\n",
    "    features = range(64),\n",
    "    verbose = True,\n",
    "    feature_centric_layout = feature_centric_layout\n",
    ")\n",
    "\n",
    "# Gather the feature data\n",
    "sae_vis_data = SaeVisData.create(\n",
    "    encoder = encoder,\n",
    "    encoder_B = encoder_B,\n",
    "    model = model,\n",
    "    tokens = all_tokens[:2048],\n",
    "    cfg = sae_vis_config,\n",
    ")\n",
    "\n",
    "# Save as HTML file & display vis\n",
    "filename = \"_feature_vis_demo.html\"\n",
    "sae_vis_data.save_feature_centric_vis(filename, feature_idx=8)\n",
    "\n",
    "display_vis_inline(filename)"
   ]
  },
  {
   "cell_type": "code",
   "execution_count": 26,
   "id": "8bf9ddef-16c4-4137-81fb-b094a51db3f7",
   "metadata": {},
   "outputs": [
    {
     "data": {
      "text/plain": [
       "SequencesConfig(buffer=(5, 5), compute_buffer=True, n_quantiles=10, top_acts_group_size=20, quantile_group_size=5, top_logits_hoverdata=5, stack_mode='stack-none', hover_below=True)"
      ]
     },
     "execution_count": 26,
     "metadata": {},
     "output_type": "execute_result"
    }
   ],
   "source": [
    "sae_vis_config.feature_centric_layout.seq_cfg"
   ]
  },
  {
   "cell_type": "code",
   "execution_count": 38,
   "id": "b6c14eb1-2533-43ec-baf3-2f2de40663a5",
   "metadata": {},
   "outputs": [
    {
     "data": {
      "text/plain": [
       "127"
      ]
     },
     "execution_count": 38,
     "metadata": {},
     "output_type": "execute_result"
    }
   ],
   "source": [
    "sae_vis_data.feature_data_dict[0].sequence_data.seq_group_data[0].seq_data[1].token_ids.__len__()"
   ]
  },
  {
   "cell_type": "code",
   "execution_count": null,
   "id": "83a52e0c-ba58-4c74-91af-02ffceef456a",
   "metadata": {},
   "outputs": [],
   "source": []
  },
  {
   "cell_type": "code",
   "execution_count": 26,
   "id": "824e55df-7875-4466-b3db-b2b57117513a",
   "metadata": {},
   "outputs": [
    {
     "data": {
      "application/vnd.jupyter.widget-view+json": {
       "model_id": "10963dc79b834539864cec21bd52a125",
       "version_major": 2,
       "version_minor": 0
      },
      "text/plain": [
       "Forward passes to cache data for vis:   0%|          | 0/32 [00:00<?, ?it/s]"
      ]
     },
     "metadata": {},
     "output_type": "display_data"
    },
    {
     "data": {
      "application/vnd.jupyter.widget-view+json": {
       "model_id": "4c7b80fa04464cbebe378916f4ae9c0e",
       "version_major": 2,
       "version_minor": 0
      },
      "text/plain": [
       "Extracting vis data from cached data:   0%|          | 0/64 [00:00<?, ?it/s]"
      ]
     },
     "metadata": {},
     "output_type": "display_data"
    },
    {
     "data": {
      "text/html": [
       "<pre style=\"white-space:pre;overflow-x:auto;line-height:normal;font-family:Menlo,'DejaVu Sans Mono',consolas,'Courier New',monospace\">┏━━━━━━━━━━━━━━━━━━━━━━━━━━━━━━━━━━━━━━━━━━━━━━━━┳━━━━━━━━┳━━━━━━━┓\n",
       "┃<span style=\"font-weight: bold\"> Task                                           </span>┃<span style=\"font-weight: bold\"> Time   </span>┃<span style=\"font-weight: bold\"> Pct % </span>┃\n",
       "┡━━━━━━━━━━━━━━━━━━━━━━━━━━━━━━━━━━━━━━━━━━━━━━━━╇━━━━━━━━╇━━━━━━━┩\n",
       "│ (1) Initialization                             │ 0.00s  │ 0.0%  │\n",
       "│ (2) Forward passes to gather model activations │ 72.58s │ 40.9% │\n",
       "│ (3) Computing feature acts from model acts     │ 79.39s │ 44.8% │\n",
       "│ (4) Getting data for tables                    │ 0.01s  │ 0.0%  │\n",
       "│ (5) Getting data for histograms                │ 0.12s  │ 0.1%  │\n",
       "│ (6) Getting data for sequences                 │ 23.21s │ 13.1% │\n",
       "│ (7) Getting data for quantiles                 │ 2.02s  │ 1.1%  │\n",
       "└────────────────────────────────────────────────┴────────┴───────┘\n",
       "</pre>\n"
      ],
      "text/plain": [
       "┏━━━━━━━━━━━━━━━━━━━━━━━━━━━━━━━━━━━━━━━━━━━━━━━━┳━━━━━━━━┳━━━━━━━┓\n",
       "┃\u001b[1m \u001b[0m\u001b[1mTask                                          \u001b[0m\u001b[1m \u001b[0m┃\u001b[1m \u001b[0m\u001b[1mTime  \u001b[0m\u001b[1m \u001b[0m┃\u001b[1m \u001b[0m\u001b[1mPct %\u001b[0m\u001b[1m \u001b[0m┃\n",
       "┡━━━━━━━━━━━━━━━━━━━━━━━━━━━━━━━━━━━━━━━━━━━━━━━━╇━━━━━━━━╇━━━━━━━┩\n",
       "│ (1) Initialization                             │ 0.00s  │ 0.0%  │\n",
       "│ (2) Forward passes to gather model activations │ 72.58s │ 40.9% │\n",
       "│ (3) Computing feature acts from model acts     │ 79.39s │ 44.8% │\n",
       "│ (4) Getting data for tables                    │ 0.01s  │ 0.0%  │\n",
       "│ (5) Getting data for histograms                │ 0.12s  │ 0.1%  │\n",
       "│ (6) Getting data for sequences                 │ 23.21s │ 13.1% │\n",
       "│ (7) Getting data for quantiles                 │ 2.02s  │ 1.1%  │\n",
       "└────────────────────────────────────────────────┴────────┴───────┘\n"
      ]
     },
     "metadata": {},
     "output_type": "display_data"
    },
    {
     "ename": "ValueError",
     "evalue": "invalid literal for int() with base 10: '\"\\'\" (0)'",
     "output_type": "error",
     "traceback": [
      "\u001b[0;31m---------------------------------------------------------------------------\u001b[0m",
      "\u001b[0;31mValueError\u001b[0m                                Traceback (most recent call last)",
      "Cell \u001b[0;32mIn[26], line 20\u001b[0m\n\u001b[1;32m     13\u001b[0m metric \u001b[38;5;241m=\u001b[39m \u001b[38;5;124m'\u001b[39m\u001b[38;5;124mact-quantiles\u001b[39m\u001b[38;5;124m'\u001b[39m\n\u001b[1;32m     15\u001b[0m filename \u001b[38;5;241m=\u001b[39m \u001b[38;5;124m\"\u001b[39m\u001b[38;5;124m_prompt_vis_demo.html\u001b[39m\u001b[38;5;124m\"\u001b[39m\n\u001b[0;32m---> 20\u001b[0m \u001b[43msae_vis_data\u001b[49m\u001b[38;5;241;43m.\u001b[39;49m\u001b[43msave_prompt_centric_vis\u001b[49m\u001b[43m(\u001b[49m\n\u001b[1;32m     21\u001b[0m \u001b[43m    \u001b[49m\u001b[43mprompt\u001b[49m\u001b[43m \u001b[49m\u001b[38;5;241;43m=\u001b[39;49m\u001b[43m \u001b[49m\u001b[43mprompt\u001b[49m\u001b[43m,\u001b[49m\n\u001b[1;32m     22\u001b[0m \u001b[43m    \u001b[49m\u001b[43mfilename\u001b[49m\u001b[43m \u001b[49m\u001b[38;5;241;43m=\u001b[39;49m\u001b[43m \u001b[49m\u001b[43mfilename\u001b[49m\u001b[43m,\u001b[49m\n\u001b[1;32m     23\u001b[0m \u001b[43m    \u001b[49m\u001b[43mseq_pos\u001b[49m\u001b[43m \u001b[49m\u001b[38;5;241;43m=\u001b[39;49m\u001b[43m \u001b[49m\u001b[43mseq_pos\u001b[49m\u001b[43m,\u001b[49m\u001b[43m \u001b[49m\u001b[38;5;66;43;03m# optional argument, to determine the default option when the page loads\u001b[39;49;00m\n\u001b[1;32m     24\u001b[0m \u001b[43m    \u001b[49m\u001b[43mmetric\u001b[49m\u001b[43m \u001b[49m\u001b[38;5;241;43m=\u001b[39;49m\u001b[43m \u001b[49m\u001b[43mmetric\u001b[49m\u001b[43m,\u001b[49m\u001b[43m \u001b[49m\u001b[38;5;66;43;03m# optional argument, to determine the default option when the page loads\u001b[39;49;00m\n\u001b[1;32m     25\u001b[0m \u001b[43m)\u001b[49m\n",
      "File \u001b[0;32m/myapp/.venv/lib/python3.11/site-packages/sae_vis/data_storing_fns.py:1163\u001b[0m, in \u001b[0;36mSaeVisData.save_prompt_centric_vis\u001b[0;34m(self, prompt, filename, metric, seq_pos, num_top_features)\u001b[0m\n\u001b[1;32m   1156\u001b[0m     first_key \u001b[38;5;241m=\u001b[39m \u001b[38;5;28mmin\u001b[39m(\u001b[38;5;28mlist\u001b[39m(scores_dict\u001b[38;5;241m.\u001b[39mkeys()))\n\u001b[1;32m   1157\u001b[0m     first_metric, first_seq_pos \u001b[38;5;241m=\u001b[39m first_key\u001b[38;5;241m.\u001b[39msplit(\u001b[38;5;124m\"\u001b[39m\u001b[38;5;124m|\u001b[39m\u001b[38;5;124m\"\u001b[39m)\n\u001b[1;32m   1158\u001b[0m     \u001b[38;5;28mprint\u001b[39m(\n\u001b[1;32m   1159\u001b[0m         \u001b[38;5;124m\"\u001b[39m\u001b[38;5;130;01m\\n\u001b[39;00m\u001b[38;5;124m\"\u001b[39m\u001b[38;5;241m.\u001b[39mjoin(\n\u001b[1;32m   1160\u001b[0m             [\n\u001b[1;32m   1161\u001b[0m                 \u001b[38;5;124mf\u001b[39m\u001b[38;5;124m\"\u001b[39m\u001b[38;5;124mNo features found with non-trivial \u001b[39m\u001b[38;5;132;01m{\u001b[39;00mbad_metric\u001b[38;5;132;01m!r}\u001b[39;00m\u001b[38;5;124m score for sequence position \u001b[39m\u001b[38;5;132;01m{\u001b[39;00mbad_seq_pos\u001b[38;5;132;01m}\u001b[39;00m\u001b[38;5;124m.\u001b[39m\u001b[38;5;124m\"\u001b[39m,\n\u001b[1;32m   1162\u001b[0m                 \u001b[38;5;124mf\u001b[39m\u001b[38;5;124m\"\u001b[39m\u001b[38;5;124mList of all active metrics & seqpos: \u001b[39m\u001b[38;5;132;01m{\u001b[39;00mscores_dict\u001b[38;5;241m.\u001b[39mkeys()\u001b[38;5;132;01m}\u001b[39;00m\u001b[38;5;124m\"\u001b[39m,\n\u001b[0;32m-> 1163\u001b[0m                 \u001b[38;5;124mf\u001b[39m\u001b[38;5;124m\"\u001b[39m\u001b[38;5;124mChoosing metric \u001b[39m\u001b[38;5;132;01m{\u001b[39;00mfirst_metric\u001b[38;5;132;01m!r}\u001b[39;00m\u001b[38;5;124m, seq pos \u001b[39m\u001b[38;5;132;01m{\u001b[39;00m\u001b[38;5;28;43mint\u001b[39;49m\u001b[43m(\u001b[49m\u001b[43mfirst_seq_pos\u001b[49m\u001b[43m)\u001b[49m\u001b[38;5;132;01m}\u001b[39;00m\u001b[38;5;124m instead.\u001b[39m\u001b[38;5;124m\"\u001b[39m,\n\u001b[1;32m   1164\u001b[0m             ]\n\u001b[1;32m   1165\u001b[0m         )\n\u001b[1;32m   1166\u001b[0m     )\n\u001b[1;32m   1168\u001b[0m \u001b[38;5;66;03m# Get tokenize function (we only need to define it once)\u001b[39;00m\n\u001b[1;32m   1169\u001b[0m \u001b[38;5;28;01massert\u001b[39;00m \u001b[38;5;28mself\u001b[39m\u001b[38;5;241m.\u001b[39mmodel \u001b[38;5;129;01mis\u001b[39;00m \u001b[38;5;129;01mnot\u001b[39;00m \u001b[38;5;28;01mNone\u001b[39;00m\n",
      "\u001b[0;31mValueError\u001b[0m: invalid literal for int() with base 10: '\"\\'\" (0)'"
     ]
    }
   ],
   "source": [
    "sae_vis_data = SaeVisData.create(\n",
    "    encoder = encoder,\n",
    "    encoder_B = encoder_B,\n",
    "    model = model,\n",
    "    tokens = all_tokens[:2048],\n",
    "    cfg = sae_vis_config,\n",
    ")\n",
    "\n",
    "\n",
    "prompt = \"'first_name': ('django.db.models.fields\"\n",
    "\n",
    "seq_pos = model.tokenizer.tokenize(prompt).index(\"Ġ('\") # type: ignore\n",
    "metric = 'act-quantiles'\n",
    "\n",
    "filename = \"_prompt_vis_demo.html\"\n",
    "\n",
    "\n",
    "\n",
    "\n",
    "sae_vis_data.save_prompt_centric_vis(\n",
    "    prompt = prompt,\n",
    "    filename = filename,\n",
    "    seq_pos = seq_pos, # optional argument, to determine the default option when the page loads\n",
    "    metric = metric, # optional argument, to determine the default option when the page loads\n",
    ")"
   ]
  }
 ],
 "metadata": {
  "kernelspec": {
   "display_name": "Python 3 (ipykernel)",
   "language": "python",
   "name": "python3"
  },
  "language_info": {
   "codemirror_mode": {
    "name": "ipython",
    "version": 3
   },
   "file_extension": ".py",
   "mimetype": "text/x-python",
   "name": "python",
   "nbconvert_exporter": "python",
   "pygments_lexer": "ipython3",
   "version": "3.11.9"
  }
 },
 "nbformat": 4,
 "nbformat_minor": 5
}
